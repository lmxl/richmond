{
 "cells": [
  {
   "cell_type": "code",
   "execution_count": 1,
   "metadata": {},
   "outputs": [],
   "source": [
    "import os\n",
    "path = '~/Dropbox/projects/richmond/'\n",
    "os.chdir(os.path.expanduser(path))"
   ]
  },
  {
   "cell_type": "code",
   "execution_count": 2,
   "metadata": {},
   "outputs": [],
   "source": [
    "import cPickle as pickle\n",
    "#import richmond\n",
    "#feats, labels, fines = richmond.loadEx()\n",
    "#pickle.dump((feats, labels, fines), open( \"/tmp/ex.pickle\", \"wb\" ) )\n",
    "\n",
    "feats, labels, fines = pickle.load(open(os.path.expanduser('~/tmp/ex.pickle')))"
   ]
  },
  {
   "cell_type": "code",
   "execution_count": 3,
   "metadata": {},
   "outputs": [],
   "source": [
    "from sklearn.cross_validation import train_test_split\n",
    "feats_pool, feats_val, label_pool, label_val = \\\n",
    "    train_test_split(feats, fines, test_size=0.8, random_state=42)\n",
    "from hybrid_learner import *"
   ]
  },
  {
   "cell_type": "code",
   "execution_count": 5,
   "metadata": {},
   "outputs": [
    {
     "name": "stdout",
     "output_type": "stream",
     "text": [
      "= Experiment on [hybrid_active_396_4]  <- 396 4 14380 59120\n[ 7133 10146  7893 11009  7148  2825  8563  6792  3333]"
     ]
    },
    {
     "name": "stdout",
     "output_type": "stream",
     "text": [
      " 9\n[1950] 1\nUPDATE"
     ]
    },
    {
     "name": "stdout",
     "output_type": "stream",
     "text": [
      " 0.5 False 0.261942983212 0.261942983212\n"
     ]
    },
    {
     "name": "stderr",
     "output_type": "stream",
     "text": [
      "{\n \"active\": true, \n \"coarse\": false, \n \"pr\": 0.26194298321191578, \n \"ratio\": 0.99, \n \"roc\": 0.9366194490403188, \n \"size\": 400\n}\n{\n \"active\": true, \n \"coarse\": false, \n \"pr\": 0.30013157450363892, \n \"ratio\": 0.01, \n \"roc\": 0.93710516251134901, \n \"size\": 410\n}"
     ]
    },
    {
     "name": "stdout",
     "output_type": "stream",
     "text": [
      "= Experiment on [hybrid_active_405_5]  <- 405 5 14370 59120\n[]"
     ]
    },
    {
     "name": "stdout",
     "output_type": "stream",
     "text": [
      " 0\n[10712, 9070, 7183, 8099, 12252, 11035, 2694, 8464, 3396, 13886, 8669, 10768, 9779, 6936, 13109, 11985, 6171, 4493, 6631, 1795, 14322, 6814, 12896, 2061, 12155, 8496, 3709, 13877, 7001, 11345, 11199, 10671, 2112, 3893, 13896, 314, 7025, 5579, 6502, 10579, 6499, 2307, 13055, 1461, 5630, 6756, 2110, 8396, 8541, 4450] 50\nUPDATE"
     ]
    },
    {
     "name": "stdout",
     "output_type": "stream",
     "text": [
      " 0.5 True 0.300131574504 0.261942983212\n"
     ]
    },
    {
     "name": "stderr",
     "output_type": "stream",
     "text": [
      "\n{\n \"active\": true, \n \"coarse\": false, \n \"pr\": 0.31679313261190101, \n \"ratio\": 0.99, \n \"roc\": 0.94015659701098064, \n \"size\": 460\n}"
     ]
    },
    {
     "name": "stdout",
     "output_type": "stream",
     "text": [
      "= Experiment on [hybrid_active_405_55]  <- 405 55 14320 59120\n[13937  7798 13003  9488 12201  3621  3353  1882  1453]"
     ]
    },
    {
     "name": "stdout",
     "output_type": "stream",
     "text": [
      " 9\n[9505] 1\nUPDATE"
     ]
    },
    {
     "name": "stdout",
     "output_type": "stream",
     "text": [
      " 0.519463573508 False 0.316793132612 0.300131574504\n"
     ]
    },
    {
     "name": "stderr",
     "output_type": "stream",
     "text": [
      "\n{\n \"active\": true, \n \"coarse\": false, \n \"pr\": 0.31528551850814912, \n \"ratio\": 0.99, \n \"roc\": 0.94106512482743376, \n \"size\": 470\n}"
     ]
    },
    {
     "name": "stdout",
     "output_type": "stream",
     "text": [
      "= Experiment on [hybrid_active_414_56]  <- 414 56 14310 59120\n"
     ]
    },
    {
     "name": "stderr",
     "output_type": "stream",
     "text": [
      "\n"
     ]
    },
    {
     "ename": "KeyboardInterrupt",
     "evalue": "",
     "output_type": "error",
     "traceback": [
      "\u001b[1;31m---------------------------------------------------------------------------\u001b[0m",
      "\u001b[1;31mKeyboardInterrupt\u001b[0m                         Traceback (most recent call last)",
      "\u001b[1;32m<ipython-input-5-75faf1a25c40>\u001b[0m in \u001b[0;36m<module>\u001b[1;34m()\u001b[0m\n\u001b[0;32m     15\u001b[0m         \u001b[0mexp2\u001b[0m\u001b[1;33m,\u001b[0m \u001b[0mobj\u001b[0m \u001b[1;33m=\u001b[0m \u001b[0mhybrid_learner\u001b[0m\u001b[1;33m(\u001b[0m\u001b[0mexp\u001b[0m\u001b[1;33m,\u001b[0m \u001b[0mactive\u001b[0m\u001b[1;33m=\u001b[0m\u001b[0mTrue\u001b[0m\u001b[1;33m,\u001b[0m \u001b[0minitial_size\u001b[0m\u001b[1;33m=\u001b[0m\u001b[1;36m400\u001b[0m\u001b[1;33m,\u001b[0m \u001b[0mfine_ratio\u001b[0m\u001b[1;33m=\u001b[0m\u001b[1;36m0.01\u001b[0m\u001b[1;33m,\u001b[0m \u001b[0mstep_size\u001b[0m\u001b[1;33m=\u001b[0m\u001b[0mbudget_t\u001b[0m\u001b[1;33m)\u001b[0m\u001b[1;33m\u001b[0m\u001b[0m\n\u001b[0;32m     16\u001b[0m     \u001b[1;32melse\u001b[0m\u001b[1;33m:\u001b[0m\u001b[1;33m\u001b[0m\u001b[0m\n\u001b[1;32m---> 17\u001b[1;33m         \u001b[0mexp2\u001b[0m\u001b[1;33m,\u001b[0m \u001b[0mobj\u001b[0m \u001b[1;33m=\u001b[0m \u001b[0mhybrid_learner\u001b[0m\u001b[1;33m(\u001b[0m\u001b[0mexp\u001b[0m\u001b[1;33m,\u001b[0m \u001b[0mactive\u001b[0m\u001b[1;33m=\u001b[0m\u001b[0mTrue\u001b[0m\u001b[1;33m,\u001b[0m \u001b[0minitial_size\u001b[0m\u001b[1;33m=\u001b[0m\u001b[1;36m400\u001b[0m\u001b[1;33m,\u001b[0m \u001b[0mfine_ratio\u001b[0m\u001b[1;33m=\u001b[0m\u001b[1;36m0.99\u001b[0m\u001b[1;33m,\u001b[0m \u001b[0mstep_size\u001b[0m\u001b[1;33m=\u001b[0m\u001b[0mbudget_t\u001b[0m\u001b[1;33m/\u001b[0m\u001b[0mcost_r\u001b[0m\u001b[1;33m)\u001b[0m\u001b[1;33m\u001b[0m\u001b[0m\n\u001b[0m\u001b[0;32m     18\u001b[0m \u001b[1;33m\u001b[0m\u001b[0m\n\u001b[0;32m     19\u001b[0m     \u001b[0mtarget\u001b[0m \u001b[1;33m=\u001b[0m \u001b[0mobj\u001b[0m\u001b[1;33m[\u001b[0m\u001b[1;34m'pr'\u001b[0m\u001b[1;33m]\u001b[0m\u001b[1;33m\u001b[0m\u001b[0m\n",
      "\u001b[1;32m/home/ymo/Dropbox/projects/richmond/hybrid_learner.py\u001b[0m in \u001b[0;36mhybrid_learner\u001b[1;34m(exp, step_size, initial_size, active, fine_ratio)\u001b[0m\n\u001b[0;32m     86\u001b[0m     \u001b[1;31m#       bio_classification_report(masklabel(label_val), score_val))\u001b[0m\u001b[1;33m\u001b[0m\u001b[1;33m\u001b[0m\u001b[0m\n\u001b[0;32m     87\u001b[0m     \u001b[1;32mif\u001b[0m \u001b[0mactive\u001b[0m\u001b[1;33m:\u001b[0m\u001b[1;33m\u001b[0m\u001b[0m\n\u001b[1;32m---> 88\u001b[1;33m         \u001b[0munk_coarse\u001b[0m\u001b[1;33m,\u001b[0m \u001b[0mfinal_unk_fine\u001b[0m \u001b[1;33m=\u001b[0m \u001b[0mfine_uncertainty\u001b[0m\u001b[1;33m(\u001b[0m\u001b[0mfeats_pool\u001b[0m\u001b[1;33m,\u001b[0m \u001b[0mfine_tags\u001b[0m\u001b[1;33m,\u001b[0m \u001b[0mtag\u001b[0m\u001b[1;33m)\u001b[0m\u001b[1;33m\u001b[0m\u001b[0m\n\u001b[0m\u001b[0;32m     89\u001b[0m         \u001b[0munk_coarse\u001b[0m \u001b[1;33m=\u001b[0m \u001b[0marray\u001b[0m\u001b[1;33m(\u001b[0m\u001b[0munk_coarse\u001b[0m\u001b[1;33m)\u001b[0m\u001b[1;33m\u001b[0m\u001b[0m\n\u001b[0;32m     90\u001b[0m         \u001b[0mfinal_unk_fine\u001b[0m \u001b[1;33m=\u001b[0m \u001b[0marray\u001b[0m\u001b[1;33m(\u001b[0m\u001b[0mfinal_unk_fine\u001b[0m\u001b[1;33m)\u001b[0m\u001b[1;33m\u001b[0m\u001b[0m\n",
      "\u001b[1;32m/home/ymo/Dropbox/projects/richmond/hybrid_learner.py\u001b[0m in \u001b[0;36mfine_uncertainty\u001b[1;34m(feats, fine_tags, tag, alpha)\u001b[0m\n\u001b[0;32m     50\u001b[0m     \u001b[0munk_fine_list\u001b[0m \u001b[1;33m=\u001b[0m \u001b[1;33m[\u001b[0m\u001b[1;33m]\u001b[0m\u001b[1;33m\u001b[0m\u001b[0m\n\u001b[0;32m     51\u001b[0m     \u001b[1;32mfor\u001b[0m \u001b[0mfine_tag\u001b[0m \u001b[1;32min\u001b[0m \u001b[0mfine_tags\u001b[0m\u001b[1;33m:\u001b[0m\u001b[1;33m\u001b[0m\u001b[0m\n\u001b[1;32m---> 52\u001b[1;33m         \u001b[0munk_fine\u001b[0m \u001b[1;33m=\u001b[0m \u001b[0mcoarse_uncertainty\u001b[0m\u001b[1;33m(\u001b[0m\u001b[0mfeats\u001b[0m\u001b[1;33m,\u001b[0m \u001b[0mtag\u001b[0m\u001b[1;33m+\u001b[0m\u001b[1;34m'_'\u001b[0m \u001b[1;33m+\u001b[0m \u001b[0mfine_tag\u001b[0m\u001b[1;33m)\u001b[0m\u001b[1;33m\u001b[0m\u001b[0m\n\u001b[0m\u001b[0;32m     53\u001b[0m         \u001b[0munk_fine_list\u001b[0m\u001b[1;33m.\u001b[0m\u001b[0mappend\u001b[0m\u001b[1;33m(\u001b[0m\u001b[0munk_fine\u001b[0m\u001b[1;33m)\u001b[0m\u001b[1;33m\u001b[0m\u001b[0m\n\u001b[0;32m     54\u001b[0m     \u001b[0mfinal_unk_fine\u001b[0m \u001b[1;33m=\u001b[0m \u001b[1;33m[\u001b[0m\u001b[1;33m]\u001b[0m\u001b[1;33m\u001b[0m\u001b[0m\n",
      "\u001b[1;32m/home/ymo/Dropbox/projects/richmond/base_learner.pyc\u001b[0m in \u001b[0;36mcoarse_uncertainty\u001b[1;34m(feats, tag)\u001b[0m\n\u001b[0;32m     39\u001b[0m     \u001b[0mtagger\u001b[0m \u001b[1;33m=\u001b[0m \u001b[0mpycrfsuite\u001b[0m\u001b[1;33m.\u001b[0m\u001b[0mTagger\u001b[0m\u001b[1;33m(\u001b[0m\u001b[1;33m)\u001b[0m\u001b[1;33m\u001b[0m\u001b[0m\n\u001b[0;32m     40\u001b[0m     \u001b[0mtagger\u001b[0m\u001b[1;33m.\u001b[0m\u001b[0mopen\u001b[0m\u001b[1;33m(\u001b[0m\u001b[1;34m'%s/%s.crf'\u001b[0m \u001b[1;33m%\u001b[0m \u001b[1;33m(\u001b[0m\u001b[0mworkbase\u001b[0m\u001b[1;33m,\u001b[0m\u001b[0mtag\u001b[0m\u001b[1;33m)\u001b[0m\u001b[1;33m)\u001b[0m\u001b[1;33m\u001b[0m\u001b[0m\n\u001b[1;32m---> 41\u001b[1;33m     \u001b[0my_unk\u001b[0m \u001b[1;33m=\u001b[0m \u001b[1;33m[\u001b[0m\u001b[0msequence_uncertainty\u001b[0m\u001b[1;33m(\u001b[0m\u001b[0mtagger\u001b[0m\u001b[1;33m,\u001b[0m \u001b[0mxseq\u001b[0m\u001b[1;33m)\u001b[0m \u001b[1;32mfor\u001b[0m \u001b[0mxseq\u001b[0m \u001b[1;32min\u001b[0m \u001b[0mfeats\u001b[0m\u001b[1;33m]\u001b[0m\u001b[1;33m\u001b[0m\u001b[0m\n\u001b[0m\u001b[0;32m     42\u001b[0m     \u001b[1;32mreturn\u001b[0m \u001b[0my_unk\u001b[0m\u001b[1;33m\u001b[0m\u001b[0m\n\u001b[0;32m     43\u001b[0m \u001b[1;33m\u001b[0m\u001b[0m\n",
      "\u001b[1;32m/home/ymo/Dropbox/projects/richmond/base_learner.pyc\u001b[0m in \u001b[0;36msequence_uncertainty\u001b[1;34m(tagger, xseq)\u001b[0m\n\u001b[0;32m     15\u001b[0m \u001b[1;32mdef\u001b[0m \u001b[0msequence_uncertainty\u001b[0m\u001b[1;33m(\u001b[0m\u001b[0mtagger\u001b[0m\u001b[1;33m,\u001b[0m \u001b[0mxseq\u001b[0m\u001b[1;33m)\u001b[0m\u001b[1;33m:\u001b[0m\u001b[1;33m\u001b[0m\u001b[0m\n\u001b[0;32m     16\u001b[0m     \u001b[0muse_marginal\u001b[0m \u001b[1;33m=\u001b[0m \u001b[0mTrue\u001b[0m\u001b[1;33m\u001b[0m\u001b[0m\n\u001b[1;32m---> 17\u001b[1;33m     \u001b[0mlseq\u001b[0m \u001b[1;33m=\u001b[0m \u001b[0mtagger\u001b[0m\u001b[1;33m.\u001b[0m\u001b[0mtag\u001b[0m\u001b[1;33m(\u001b[0m\u001b[0mxseq\u001b[0m\u001b[1;33m)\u001b[0m\u001b[1;33m\u001b[0m\u001b[0m\n\u001b[0m\u001b[0;32m     18\u001b[0m     \u001b[1;32mif\u001b[0m \u001b[0muse_marginal\u001b[0m\u001b[1;33m:\u001b[0m\u001b[1;33m\u001b[0m\u001b[0m\n\u001b[0;32m     19\u001b[0m         \u001b[0mmseq\u001b[0m \u001b[1;33m=\u001b[0m \u001b[1;33m[\u001b[0m \u001b[0mtagger\u001b[0m\u001b[1;33m.\u001b[0m\u001b[0mmarginal\u001b[0m\u001b[1;33m(\u001b[0m\u001b[0mlseq\u001b[0m\u001b[1;33m[\u001b[0m\u001b[0mi\u001b[0m\u001b[1;33m]\u001b[0m\u001b[1;33m,\u001b[0m \u001b[0mi\u001b[0m\u001b[1;33m)\u001b[0m \u001b[1;32mfor\u001b[0m \u001b[0mi\u001b[0m \u001b[1;32min\u001b[0m \u001b[0mrange\u001b[0m\u001b[1;33m(\u001b[0m\u001b[0mlen\u001b[0m\u001b[1;33m(\u001b[0m\u001b[0mlseq\u001b[0m\u001b[1;33m)\u001b[0m\u001b[1;33m)\u001b[0m\u001b[1;33m]\u001b[0m\u001b[1;33m\u001b[0m\u001b[0m\n",
      "\u001b[1;31mKeyboardInterrupt\u001b[0m: "
     ]
    }
   ],
   "source": [
    "import random, math\n",
    "l = 1.0\n",
    "e = 0.1\n",
    "ratio_p = 0.5\n",
    "cost_r = 5\n",
    "budget_t = 50\n",
    "target_prev = 0\n",
    "exp = [[], [], feats_val, feats_pool, [], [], label_val, label_pool]\n",
    "for i in range(100):\n",
    "    if random.random()>ratio_p:\n",
    "        heads = True\n",
    "    else:\n",
    "        heads = False\n",
    "    if heads:\n",
    "        exp2, obj = hybrid_learner(exp, active=True, initial_size=400, fine_ratio=0.01, step_size=budget_t)\n",
    "    else:\n",
    "        exp2, obj = hybrid_learner(exp, active=True, initial_size=400, fine_ratio=0.99, step_size=budget_t/cost_r)\n",
    "\n",
    "    target = obj['pr']\n",
    "    if i == 0:\n",
    "        target_prev = target\n",
    "\n",
    "    print 'UPDATE', ratio_p, heads, target, target_prev\n",
    "    if heads:\n",
    "        ratio_p = min(ratio_p*l*math.exp(target-target_prev), 1 - e)\n",
    "    else:\n",
    "        ratio_p = max(1-(1-ratio_p)*l*math.exp(target-target_prev), e)\n",
    "    target_prev = target\n",
    "    exp = exp2\n",
    "    sys.stdout.flush()"
   ]
  },
  {
   "cell_type": "code",
   "execution_count": 6,
   "metadata": {},
   "outputs": [],
   "source": [
    "import random, math\n",
    "l = 1.0\n",
    "e = 0.1\n",
    "ratio_p = 0.5\n",
    "cost_r = 5\n",
    "budget_t = 50\n",
    "target_prev = 0\n",
    "exp = [[], [], feats_val, feats_pool, [], [], label_val, label_pool]"
   ]
  },
  {
   "cell_type": "code",
   "execution_count": 7,
   "metadata": {},
   "outputs": [
    {
     "name": "stdout",
     "output_type": "stream",
     "text": [
      "= Experiment on [hybrid_active_4_396]  <- 4 396 14380 59120\n[ 1950  6943  8048 ...,  8044  3456 12536]"
     ]
    },
    {
     "name": "stdout",
     "output_type": "stream",
     "text": [
      " 14380\n[] 0\nUPDATE 0.5 True 0.244358634231 0.244358634231\n"
     ]
    },
    {
     "name": "stderr",
     "output_type": "stream",
     "text": [
      "{\n \"active\": true, \n \"coarse\": false, \n \"pr\": 0.24435863423084495, \n \"ratio\": 0.01, \n \"roc\": 0.93904521785369721, \n \"size\": 400\n}\n"
     ]
    }
   ],
   "source": [
    "i=0\n",
    "heads = True\n",
    "if heads:\n",
    "    exp2, obj = hybrid_learner(exp, active=True, initial_size=400, fine_ratio=0.01, step_size=budget_t)\n",
    "else:\n",
    "    exp2, obj = hybrid_learner(exp, active=True, initial_size=400, fine_ratio=0.99, step_size=budget_t/cost_r)\n",
    "\n",
    "target = obj['pr']\n",
    "if i == 0:\n",
    "    target_prev = target\n",
    "\n",
    "print 'UPDATE', ratio_p, heads, target, target_prev\n",
    "if heads:\n",
    "    ratio_p = min(ratio_p*l*math.exp(target-target_prev), 1 - e)\n",
    "else:\n",
    "    ratio_p = max(1-(1-ratio_p)*l*math.exp(target-target_prev), e)\n",
    "target_prev = target\n",
    "exp = exp2"
   ]
  },
  {
   "cell_type": "code",
   "execution_count": 9,
   "metadata": {},
   "outputs": [
    {
     "name": "stdout",
     "output_type": "stream",
     "text": [
      "= Experiment on [hybrid_active_405_5]  <- 405 5 14370 59120\nUPDATE"
     ]
    },
    {
     "name": "stdout",
     "output_type": "stream",
     "text": [
      " 0.5 True 0.300131574504 0.261942983212\n"
     ]
    },
    {
     "name": "stderr",
     "output_type": "stream",
     "text": [
      "{\n \"active\": true, \n \"coarse\": false, \n \"pr\": 0.30013157450363892, \n \"ratio\": 0.01, \n \"roc\": 0.93710516251134901, \n \"size\": 410\n}\n"
     ]
    }
   ],
   "source": [
    "i=1\n",
    "if random.random()>ratio_p:\n",
    "    heads = True\n",
    "else:\n",
    "    heads = False\n",
    "if heads:\n",
    "    exp2, obj = hybrid_learner(exp, active=True, initial_size=400, fine_ratio=0.01, step_size=budget_t)\n",
    "else:\n",
    "    exp2, obj = hybrid_learner(exp, active=True, initial_size=400, fine_ratio=0.99, step_size=budget_t/cost_r)\n",
    "\n",
    "target = obj['pr']\n",
    "if i == 0:\n",
    "    target_prev = target\n",
    "\n",
    "print 'UPDATE', ratio_p, heads, target, target_prev\n",
    "if heads:\n",
    "    ratio_p = min(ratio_p*l*math.exp(target-target_prev), 1 - e)\n",
    "else:\n",
    "    ratio_p = max(1-(1-ratio_p)*l*math.exp(target-target_prev), e)\n",
    "target_prev = target\n",
    "exp = exp2"
   ]
  },
  {
   "cell_type": "code",
   "execution_count": 10,
   "metadata": {},
   "outputs": [
    {
     "name": "stdout",
     "output_type": "stream",
     "text": [
      "= Experiment on [hybrid_active_14775_5]  <- 14775 5 0 59120\n"
     ]
    },
    {
     "ename": "KeyboardInterrupt",
     "evalue": "",
     "output_type": "error",
     "traceback": [
      "\u001b[1;31m---------------------------------------------------------------------------\u001b[0m",
      "\u001b[1;31mKeyboardInterrupt\u001b[0m                         Traceback (most recent call last)",
      "\u001b[1;32m<ipython-input-10-083d5cf985f1>\u001b[0m in \u001b[0;36m<module>\u001b[1;34m()\u001b[0m\n\u001b[0;32m      5\u001b[0m     \u001b[0mheads\u001b[0m \u001b[1;33m=\u001b[0m \u001b[0mFalse\u001b[0m\u001b[1;33m\u001b[0m\u001b[0m\n\u001b[0;32m      6\u001b[0m \u001b[1;32mif\u001b[0m \u001b[0mheads\u001b[0m\u001b[1;33m:\u001b[0m\u001b[1;33m\u001b[0m\u001b[0m\n\u001b[1;32m----> 7\u001b[1;33m     \u001b[0mexp2\u001b[0m\u001b[1;33m,\u001b[0m \u001b[0mobj\u001b[0m \u001b[1;33m=\u001b[0m \u001b[0mhybrid_learner\u001b[0m\u001b[1;33m(\u001b[0m\u001b[0mexp\u001b[0m\u001b[1;33m,\u001b[0m \u001b[0mactive\u001b[0m\u001b[1;33m=\u001b[0m\u001b[0mTrue\u001b[0m\u001b[1;33m,\u001b[0m \u001b[0minitial_size\u001b[0m\u001b[1;33m=\u001b[0m\u001b[1;36m400\u001b[0m\u001b[1;33m,\u001b[0m \u001b[0mfine_ratio\u001b[0m\u001b[1;33m=\u001b[0m\u001b[1;36m0.01\u001b[0m\u001b[1;33m,\u001b[0m \u001b[0mstep_size\u001b[0m\u001b[1;33m=\u001b[0m\u001b[0mbudget_t\u001b[0m\u001b[1;33m)\u001b[0m\u001b[1;33m\u001b[0m\u001b[0m\n\u001b[0m\u001b[0;32m      8\u001b[0m \u001b[1;32melse\u001b[0m\u001b[1;33m:\u001b[0m\u001b[1;33m\u001b[0m\u001b[0m\n\u001b[0;32m      9\u001b[0m     \u001b[0mexp2\u001b[0m\u001b[1;33m,\u001b[0m \u001b[0mobj\u001b[0m \u001b[1;33m=\u001b[0m \u001b[0mhybrid_learner\u001b[0m\u001b[1;33m(\u001b[0m\u001b[0mexp\u001b[0m\u001b[1;33m,\u001b[0m \u001b[0mactive\u001b[0m\u001b[1;33m=\u001b[0m\u001b[0mTrue\u001b[0m\u001b[1;33m,\u001b[0m \u001b[0minitial_size\u001b[0m\u001b[1;33m=\u001b[0m\u001b[1;36m400\u001b[0m\u001b[1;33m,\u001b[0m \u001b[0mfine_ratio\u001b[0m\u001b[1;33m=\u001b[0m\u001b[1;36m0.99\u001b[0m\u001b[1;33m,\u001b[0m \u001b[0mstep_size\u001b[0m\u001b[1;33m=\u001b[0m\u001b[0mbudget_t\u001b[0m\u001b[1;33m/\u001b[0m\u001b[0mcost_r\u001b[0m\u001b[1;33m)\u001b[0m\u001b[1;33m\u001b[0m\u001b[0m\n",
      "\u001b[1;32m/home/ymo/Dropbox/projects/richmond/hybrid_learner.py\u001b[0m in \u001b[0;36mhybrid_learner\u001b[1;34m(exp, step_size, initial_size, active, fine_ratio)\u001b[0m\n\u001b[0;32m     71\u001b[0m     \u001b[1;32mprint\u001b[0m \u001b[1;34m'= Experiment on [%s]'\u001b[0m \u001b[1;33m%\u001b[0m \u001b[0mtag\u001b[0m \u001b[1;33m,\u001b[0m \u001b[1;34m' <-'\u001b[0m\u001b[1;33m,\u001b[0m \u001b[0mlen\u001b[0m\u001b[1;33m(\u001b[0m\u001b[0mfeats_train_fine\u001b[0m\u001b[1;33m)\u001b[0m\u001b[1;33m,\u001b[0m \u001b[0mlen\u001b[0m\u001b[1;33m(\u001b[0m\u001b[0mfeats_train_coarse\u001b[0m\u001b[1;33m)\u001b[0m\u001b[1;33m,\u001b[0m\u001b[0mlen\u001b[0m\u001b[1;33m(\u001b[0m\u001b[0mfeats_pool\u001b[0m\u001b[1;33m)\u001b[0m\u001b[1;33m,\u001b[0m \u001b[0mlen\u001b[0m\u001b[1;33m(\u001b[0m\u001b[0mfeats_val\u001b[0m\u001b[1;33m)\u001b[0m\u001b[1;33m\u001b[0m\u001b[0m\n\u001b[0;32m     72\u001b[0m \u001b[1;33m\u001b[0m\u001b[0m\n\u001b[1;32m---> 73\u001b[1;33m     \u001b[0mfine_tags\u001b[0m \u001b[1;33m=\u001b[0m \u001b[0mtrainmulticrf\u001b[0m\u001b[1;33m(\u001b[0m\u001b[0mfeats_train_fine\u001b[0m\u001b[1;33m,\u001b[0m \u001b[0mfeats_train_coarse\u001b[0m\u001b[1;33m,\u001b[0m \u001b[0mlabel_train_fine\u001b[0m\u001b[1;33m,\u001b[0m \u001b[0mlabel_train_coarse\u001b[0m\u001b[1;33m,\u001b[0m \u001b[0mtag\u001b[0m\u001b[1;33m)\u001b[0m\u001b[1;33m\u001b[0m\u001b[0m\n\u001b[0m\u001b[0;32m     74\u001b[0m     \u001b[0mscore_val\u001b[0m \u001b[1;33m=\u001b[0m \u001b[0mpredictmulticrf\u001b[0m\u001b[1;33m(\u001b[0m\u001b[0mfeats_val\u001b[0m\u001b[1;33m,\u001b[0m\u001b[0mfine_tags\u001b[0m\u001b[1;33m,\u001b[0m \u001b[0mtag\u001b[0m\u001b[1;33m)\u001b[0m\u001b[1;33m\u001b[0m\u001b[0m\n\u001b[0;32m     75\u001b[0m     \u001b[0mpr\u001b[0m\u001b[1;33m,\u001b[0m \u001b[0mroc\u001b[0m \u001b[1;33m=\u001b[0m \u001b[0mcalculate_auc\u001b[0m\u001b[1;33m(\u001b[0m\u001b[0mmasklabel\u001b[0m\u001b[1;33m(\u001b[0m\u001b[0mlabel_val\u001b[0m\u001b[1;33m)\u001b[0m\u001b[1;33m,\u001b[0m \u001b[0mscore_val\u001b[0m\u001b[1;33m)\u001b[0m\u001b[1;33m\u001b[0m\u001b[0m\n",
      "\u001b[1;32m/home/ymo/Dropbox/projects/richmond/hybrid_learner.py\u001b[0m in \u001b[0;36mtrainmulticrf\u001b[1;34m(feats_train_fine, feats_train_coarse, label_train_fine, label_train_coarse, tag)\u001b[0m\n\u001b[0;32m     15\u001b[0m     \u001b[1;32mif\u001b[0m \u001b[1;32mnot\u001b[0m \u001b[0mparallel_processing\u001b[0m\u001b[1;33m:\u001b[0m\u001b[1;33m\u001b[0m\u001b[0m\n\u001b[0;32m     16\u001b[0m         \u001b[1;32mfor\u001b[0m \u001b[0mfine_tag\u001b[0m \u001b[1;32min\u001b[0m \u001b[0mfine_tags\u001b[0m\u001b[1;33m:\u001b[0m\u001b[1;33m\u001b[0m\u001b[0m\n\u001b[1;32m---> 17\u001b[1;33m             \u001b[0mtraincrf\u001b[0m\u001b[1;33m(\u001b[0m\u001b[1;33m(\u001b[0m\u001b[0mfeats_train_fine\u001b[0m\u001b[1;33m,\u001b[0m \u001b[0mmasklabel\u001b[0m\u001b[1;33m(\u001b[0m\u001b[0mlabel_train_fine\u001b[0m\u001b[1;33m,\u001b[0m \u001b[0mmask\u001b[0m\u001b[1;33m=\u001b[0m\u001b[0mfine_tag\u001b[0m\u001b[1;33m)\u001b[0m\u001b[1;33m,\u001b[0m \u001b[0mtag\u001b[0m\u001b[1;33m+\u001b[0m\u001b[1;34m'_'\u001b[0m \u001b[1;33m+\u001b[0m \u001b[0mfine_tag\u001b[0m\u001b[1;33m)\u001b[0m\u001b[1;33m)\u001b[0m\u001b[1;33m\u001b[0m\u001b[0m\n\u001b[0m\u001b[0;32m     18\u001b[0m     \u001b[1;32melse\u001b[0m\u001b[1;33m:\u001b[0m\u001b[1;33m\u001b[0m\u001b[0m\n\u001b[0;32m     19\u001b[0m         \u001b[0mp\u001b[0m \u001b[1;33m=\u001b[0m \u001b[0mPool\u001b[0m\u001b[1;33m(\u001b[0m\u001b[0mmin\u001b[0m\u001b[1;33m(\u001b[0m\u001b[1;36m12\u001b[0m\u001b[1;33m,\u001b[0m\u001b[0mlen\u001b[0m\u001b[1;33m(\u001b[0m\u001b[0mfine_tags\u001b[0m\u001b[1;33m)\u001b[0m\u001b[1;33m)\u001b[0m\u001b[1;33m)\u001b[0m\u001b[1;33m\u001b[0m\u001b[0m\n",
      "\u001b[1;32m/home/ymo/Dropbox/projects/richmond/base_learner.pyc\u001b[0m in \u001b[0;36mtraincrf\u001b[1;34m((feats, labels, tag))\u001b[0m\n\u001b[0;32m     46\u001b[0m     \u001b[1;32mfor\u001b[0m \u001b[0mxseq\u001b[0m\u001b[1;33m,\u001b[0m \u001b[0myseq\u001b[0m \u001b[1;32min\u001b[0m \u001b[0mzip\u001b[0m\u001b[1;33m(\u001b[0m\u001b[0mfeats\u001b[0m\u001b[1;33m,\u001b[0m \u001b[0mlabels\u001b[0m\u001b[1;33m)\u001b[0m\u001b[1;33m:\u001b[0m\u001b[1;33m\u001b[0m\u001b[0m\n\u001b[0;32m     47\u001b[0m         \u001b[0mcrf\u001b[0m\u001b[1;33m.\u001b[0m\u001b[0mappend\u001b[0m\u001b[1;33m(\u001b[0m\u001b[0mxseq\u001b[0m\u001b[1;33m,\u001b[0m \u001b[0myseq\u001b[0m\u001b[1;33m)\u001b[0m\u001b[1;33m\u001b[0m\u001b[0m\n\u001b[1;32m---> 48\u001b[1;33m     \u001b[0mcrf\u001b[0m\u001b[1;33m.\u001b[0m\u001b[0mtrain\u001b[0m\u001b[1;33m(\u001b[0m\u001b[1;34m'%s/%s.crf'\u001b[0m \u001b[1;33m%\u001b[0m \u001b[1;33m(\u001b[0m\u001b[0mworkbase\u001b[0m\u001b[1;33m,\u001b[0m\u001b[0mtag\u001b[0m\u001b[1;33m)\u001b[0m\u001b[1;33m)\u001b[0m\u001b[1;33m\u001b[0m\u001b[0m\n\u001b[0m\u001b[0;32m     49\u001b[0m     \u001b[1;32mreturn\u001b[0m \u001b[0mTrue\u001b[0m\u001b[1;33m\u001b[0m\u001b[0m\n\u001b[0;32m     50\u001b[0m \u001b[1;33m\u001b[0m\u001b[0m\n",
      "\u001b[1;32mpycrfsuite/_pycrfsuite.pyx\u001b[0m in \u001b[0;36mpycrfsuite._pycrfsuite.BaseTrainer.train (pycrfsuite/_pycrfsuite.cpp:3723)\u001b[1;34m()\u001b[0m\n",
      "\u001b[1;32mpycrfsuite/_pycrfsuite.pyx\u001b[0m in \u001b[0;36mpycrfsuite._pycrfsuite.BaseTrainer._on_message (pycrfsuite/_pycrfsuite.cpp:3085)\u001b[1;34m()\u001b[0m\n",
      "\u001b[1;32mpycrfsuite/_pycrfsuite.pyx\u001b[0m in \u001b[0;36mpycrfsuite._pycrfsuite.Trainer.message (pycrfsuite/_pycrfsuite.cpp:5396)\u001b[1;34m()\u001b[0m\n",
      "\u001b[1;32m/home/ymo/epd/User/lib/python2.7/site-packages/pycrfsuite/_logparser.pyc\u001b[0m in \u001b[0;36mfeed\u001b[1;34m(self, line)\u001b[0m\n\u001b[0;32m     23\u001b[0m         \u001b[0mself\u001b[0m\u001b[1;33m.\u001b[0m\u001b[0mevents\u001b[0m \u001b[1;33m=\u001b[0m \u001b[1;33m[\u001b[0m\u001b[1;33m]\u001b[0m\u001b[1;33m\u001b[0m\u001b[0m\n\u001b[0;32m     24\u001b[0m \u001b[1;33m\u001b[0m\u001b[0m\n\u001b[1;32m---> 25\u001b[1;33m     \u001b[1;32mdef\u001b[0m \u001b[0mfeed\u001b[0m\u001b[1;33m(\u001b[0m\u001b[0mself\u001b[0m\u001b[1;33m,\u001b[0m \u001b[0mline\u001b[0m\u001b[1;33m)\u001b[0m\u001b[1;33m:\u001b[0m\u001b[1;33m\u001b[0m\u001b[0m\n\u001b[0m\u001b[0;32m     26\u001b[0m         \u001b[1;31m# if line != '\\n':\u001b[0m\u001b[1;33m\u001b[0m\u001b[1;33m\u001b[0m\u001b[0m\n\u001b[0;32m     27\u001b[0m         \u001b[0mself\u001b[0m\u001b[1;33m.\u001b[0m\u001b[0mlog\u001b[0m\u001b[1;33m.\u001b[0m\u001b[0mappend\u001b[0m\u001b[1;33m(\u001b[0m\u001b[0mline\u001b[0m\u001b[1;33m)\u001b[0m\u001b[1;33m\u001b[0m\u001b[0m\n",
      "\u001b[1;31mKeyboardInterrupt\u001b[0m: "
     ]
    }
   ],
   "source": [
    "i=2\n",
    "if random.random()>ratio_p:\n",
    "    heads = True\n",
    "else:\n",
    "    heads = False\n",
    "if heads:\n",
    "    exp2, obj = hybrid_learner(exp, active=True, initial_size=400, fine_ratio=0.01, step_size=budget_t)\n",
    "else:\n",
    "    exp2, obj = hybrid_learner(exp, active=True, initial_size=400, fine_ratio=0.99, step_size=budget_t/cost_r)\n",
    "\n",
    "target = obj['pr']\n",
    "if i == 0:\n",
    "    target_prev = target\n",
    "\n",
    "print 'UPDATE', ratio_p, heads, target, target_prev\n",
    "if heads:\n",
    "    ratio_p = min(ratio_p*l*math.exp(target-target_prev), 1 - e)\n",
    "else:\n",
    "    ratio_p = max(1-(1-ratio_p)*l*math.exp(target-target_prev), e)\n",
    "target_prev = target\n",
    "exp = exp2"
   ]
  },
  {
   "cell_type": "code",
   "execution_count": 20,
   "metadata": {},
   "outputs": [
    {
     "data": {
      "text/plain": [
       "array([5])"
      ]
     },
     "execution_count": 20,
     "output_type": "execute_result",
     "metadata": {}
    }
   ],
   "source": [
    "import numpy\n",
    "a = numpy.array([1,2,3,4,5,6])\n",
    "a.argsort()[::-1][:1]\n"
   ]
  },
  {
   "cell_type": "code",
   "execution_count": 11,
   "metadata": {},
   "outputs": [],
   "source": [
    "feats, labels, fines = pickle.load(open(os.path.expanduser('~/tmp/ex.pickle'), 'rb'))"
   ]
  }
 ],
 "metadata": {
  "kernelspec": {
   "display_name": "Python 2",
   "language": "python",
   "name": "python2"
  },
  "language_info": {
   "codemirror_mode": {
    "name": "ipython",
    "version": 2.0
   },
   "file_extension": ".py",
   "mimetype": "text/x-python",
   "name": "python",
   "nbconvert_exporter": "python",
   "pygments_lexer": "ipython2",
   "version": "2.7.9"
  }
 },
 "nbformat": 4,
 "nbformat_minor": 0
}